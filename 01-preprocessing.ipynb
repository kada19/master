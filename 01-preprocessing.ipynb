{
 "cells": [
  {
   "attachments": {},
   "cell_type": "markdown",
   "metadata": {},
   "source": [
    "##### Imports"
   ]
  },
  {
   "cell_type": "code",
   "execution_count": 29,
   "metadata": {},
   "outputs": [],
   "source": [
    "import pandas as pd\n",
    "import numpy as np\n",
    "import matplotlib.pyplot as plt"
   ]
  },
  {
   "cell_type": "code",
   "execution_count": 30,
   "metadata": {},
   "outputs": [
    {
     "data": {
      "text/html": [
       "<div>\n",
       "<style scoped>\n",
       "    .dataframe tbody tr th:only-of-type {\n",
       "        vertical-align: middle;\n",
       "    }\n",
       "\n",
       "    .dataframe tbody tr th {\n",
       "        vertical-align: top;\n",
       "    }\n",
       "\n",
       "    .dataframe thead th {\n",
       "        text-align: right;\n",
       "    }\n",
       "</style>\n",
       "<table border=\"1\" class=\"dataframe\">\n",
       "  <thead>\n",
       "    <tr style=\"text-align: right;\">\n",
       "      <th></th>\n",
       "      <th>0</th>\n",
       "      <th>1</th>\n",
       "      <th>2</th>\n",
       "      <th>3</th>\n",
       "      <th>4</th>\n",
       "    </tr>\n",
       "  </thead>\n",
       "  <tbody>\n",
       "    <tr>\n",
       "      <th>0</th>\n",
       "      <td>4</td>\n",
       "      <td>5</td>\n",
       "      <td>3</td>\n",
       "      <td>6</td>\n",
       "      <td>1</td>\n",
       "    </tr>\n",
       "    <tr>\n",
       "      <th>1</th>\n",
       "      <td>8</td>\n",
       "      <td>10</td>\n",
       "      <td>6</td>\n",
       "      <td>12</td>\n",
       "      <td>2</td>\n",
       "    </tr>\n",
       "    <tr>\n",
       "      <th>2</th>\n",
       "      <td>3</td>\n",
       "      <td>3</td>\n",
       "      <td>3</td>\n",
       "      <td>3</td>\n",
       "      <td>3</td>\n",
       "    </tr>\n",
       "    <tr>\n",
       "      <th>3</th>\n",
       "      <td>7</td>\n",
       "      <td>1</td>\n",
       "      <td>9</td>\n",
       "      <td>0</td>\n",
       "      <td>8</td>\n",
       "    </tr>\n",
       "    <tr>\n",
       "      <th>4</th>\n",
       "      <td>14</td>\n",
       "      <td>2</td>\n",
       "      <td>18</td>\n",
       "      <td>0</td>\n",
       "      <td>16</td>\n",
       "    </tr>\n",
       "  </tbody>\n",
       "</table>\n",
       "</div>"
      ],
      "text/plain": [
       "    0   1   2   3   4\n",
       "0   4   5   3   6   1\n",
       "1   8  10   6  12   2\n",
       "2   3   3   3   3   3\n",
       "3   7   1   9   0   8\n",
       "4  14   2  18   0  16"
      ]
     },
     "execution_count": 30,
     "metadata": {},
     "output_type": "execute_result"
    }
   ],
   "source": [
    "dataset = pd.read_csv(\"./datasets/mat.csv\")\n",
    "dataset.columns=[i for i in range(dataset.shape[1])]\n",
    "dataset"
   ]
  },
  {
   "cell_type": "code",
   "execution_count": 37,
   "metadata": {},
   "outputs": [
    {
     "data": {
      "text/plain": [
       "5"
      ]
     },
     "execution_count": 37,
     "metadata": {},
     "output_type": "execute_result"
    }
   ],
   "source": [
    "dataset.shape[0]"
   ]
  },
  {
   "cell_type": "code",
   "execution_count": 47,
   "metadata": {},
   "outputs": [
    {
     "name": "stdout",
     "output_type": "stream",
     "text": [
      "    0   1   2   3   4\n",
      "0   4   5   3   6   1\n",
      "1   8  10   6  12   2\n",
      "2   3   3   3   3   3\n",
      "3   7   1   9   0   8\n",
      "4  14   2  18   0  16\n",
      "-----------------------------------\n",
      "[[ -1.   1.  -2.   3.   2.  -1.   4.  -3.   2.   5.]\n",
      " [ -2.   2.  -4.   6.   4.  -2.   8.  -6.   4.  10.]\n",
      " [  0.   0.   0.   0.   0.   0.   0.   0.   0.   0.]\n",
      " [  6.  -2.   7.  -1.  -8.   1.  -7.   9.   1.  -8.]\n",
      " [ 12.  -4.  14.  -2. -16.   2. -14.  18.   2. -16.]]\n",
      "-----------------------------------\n"
     ]
    }
   ],
   "source": [
    "# generate a random matrix\n",
    "lines = dataset.shape[0]\n",
    "columns = dataset.shape[1]\n",
    "\n",
    "matrix_2 = [[]] * lines\n",
    "for i in range(len(dataset) - 1):\n",
    "    for j in range(i + 1, len(dataset)):\n",
    "        diff = np.diff((dataset[i], dataset[j]), axis=0) * (-1)\n",
    "        matrix_2 = np.concatenate((matrix_2, diff.T), axis=1)\n",
    "\n",
    "print(dataset)\n",
    "print(\"-----------------------------------\")\n",
    "print(matrix_2)\n",
    "print(\"-----------------------------------\")"
   ]
  },
  {
   "cell_type": "code",
   "execution_count": 48,
   "metadata": {},
   "outputs": [
    {
     "name": "stdout",
     "output_type": "stream",
     "text": [
      "[[-0.02941176  0.02941176 -0.05882353  0.08823529  0.05882353 -0.02941176\n",
      "   0.11764706 -0.08823529  0.05882353  0.14705882]\n",
      " [-0.05882353  0.05882353 -0.11764706  0.17647059  0.11764706 -0.05882353\n",
      "   0.23529412 -0.17647059  0.11764706  0.29411765]\n",
      " [ 0.          0.          0.          0.          0.          0.\n",
      "   0.          0.          0.          0.        ]\n",
      " [ 0.17647059 -0.05882353  0.20588235 -0.02941176 -0.23529412  0.02941176\n",
      "  -0.20588235  0.26470588  0.02941176 -0.23529412]\n",
      " [ 0.35294118 -0.11764706  0.41176471 -0.05882353 -0.47058824  0.05882353\n",
      "  -0.41176471  0.52941176  0.05882353 -0.47058824]]\n"
     ]
    }
   ],
   "source": [
    "matrix_3 = matrix_2 / (np.max(matrix_2) - np.min(matrix_2))\n",
    "print(matrix_3)"
   ]
  },
  {
   "cell_type": "code",
   "execution_count": 49,
   "metadata": {},
   "outputs": [],
   "source": [
    "histogram = [0] * 21\n"
   ]
  },
  {
   "cell_type": "code",
   "execution_count": 50,
   "metadata": {},
   "outputs": [
    {
     "name": "stdout",
     "output_type": "stream",
     "text": [
      "[nan nan nan nan nan nan nan nan nan nan nan nan nan nan nan nan nan nan\n",
      " nan nan nan]\n"
     ]
    },
    {
     "name": "stderr",
     "output_type": "stream",
     "text": [
      "C:\\Users\\TP\\AppData\\Local\\Temp\\ipykernel_10020\\1525299249.py:15: RuntimeWarning: invalid value encountered in divide\n",
      "  print(histogram / sum(histogram))\n"
     ]
    }
   ],
   "source": [
    "j=1\n",
    "for i in range(21):\n",
    "    histogram[i] = j\n",
    "    j = round(j + 0.1, 1)\n",
    "\n",
    "for i in range(len(histogram)):\n",
    "    val = histogram[i]\n",
    "    histogram[i] = 0\n",
    "    for j in range(len(matrix_3)):\n",
    "        for k in range(len(matrix_3[0])):\n",
    "            if matrix_3[j][k] >= val and matrix_3[j][k] < round(val + 0.1, 1):\n",
    "                histogram[i] += 1    \n",
    "                \n",
    "histogram = np.array(histogram)\n",
    "print(histogram / sum(histogram))                "
   ]
  }
 ],
 "metadata": {
  "kernelspec": {
   "display_name": "Python 3",
   "language": "python",
   "name": "python3"
  },
  "language_info": {
   "codemirror_mode": {
    "name": "ipython",
    "version": 3
   },
   "file_extension": ".py",
   "mimetype": "text/x-python",
   "name": "python",
   "nbconvert_exporter": "python",
   "pygments_lexer": "ipython3",
   "version": "3.11.3"
  },
  "orig_nbformat": 4
 },
 "nbformat": 4,
 "nbformat_minor": 2
}
